{
 "cells": [
  {
   "cell_type": "markdown",
   "metadata": {},
   "source": [
    "# Python-Programs"
   ]
  },
  {
   "cell_type": "markdown",
   "metadata": {},
   "source": [
    "# A =>  Sorting Algorithms - 1"
   ]
  },
  {
   "cell_type": "markdown",
   "metadata": {},
   "source": [
    "# (1) example of selection sort"
   ]
  },
  {
   "cell_type": "markdown",
   "metadata": {},
   "source": [
    "Selection sort iterates all the elements and if the smallest element in the list is found then that number is swapped with the first"
   ]
  },
  {
   "cell_type": "code",
   "execution_count": 1,
   "metadata": {},
   "outputs": [
    {
     "name": "stdout",
     "output_type": "stream",
     "text": [
      "Sorted List: [1, 2, 3, 4, 5, 6, 7, 9]\n"
     ]
    }
   ],
   "source": [
    "def selectionSort(List):\n",
    "    for i in range(len(List) - 1): #For iterating n - 1 times\n",
    "        minimum = i\n",
    "        for j in range( i + 1, len(List)): # Compare i and i + 1 element\n",
    "            if(List[j] < List[minimum]):\n",
    "                minimum = j\n",
    "        if(minimum != i):\n",
    "            List[i], List[minimum] = List[minimum], List[i]\n",
    "    return List\n",
    "\n",
    "if __name__ == '__main__':\n",
    "    List = [3, 4, 2, 6, 5, 7, 1, 9]\n",
    "    print('Sorted List:',selectionSort(List))"
   ]
  },
  {
   "cell_type": "markdown",
   "metadata": {},
   "source": [
    "# (2) example of bubble sort"
   ]
  },
  {
   "cell_type": "markdown",
   "metadata": {},
   "source": [
    "Bubblesort is an elementary sorting algorithm. The idea is to imagine bubbling the smallest elements of a (vertical) array to the top; then bubble the next smallest; then so on until the entire array is sorted. Bubble sort is worse than both insertion sort and selection sort. It moves elements as many times as insertion sort (bad) and it takes as long as selection sort (bad). On the positive side, bubble sort is easy to understand. Also there are highly improved variants of bubble sort."
   ]
  },
  {
   "cell_type": "code",
   "execution_count": 2,
   "metadata": {},
   "outputs": [
    {
     "name": "stdout",
     "output_type": "stream",
     "text": [
      "Sorted List: [1, 2, 3, 4, 5, 6, 7, 9]\n"
     ]
    }
   ],
   "source": [
    "def bubbleSort(List):\n",
    "    for i in range(len(List)):\n",
    "        for j in range(len(List) - 1, i, -1):\n",
    "            if List[j] < List[j - 1]:\n",
    "                List[j], List[j - 1] = List[j - 1], List[j]\n",
    "    return List\n",
    "\n",
    "if __name__ == '__main__':\n",
    "    List = [3, 4, 2, 6, 5, 7, 1, 9]\n",
    "    print('Sorted List:',bubbleSort(List))"
   ]
  },
  {
   "cell_type": "markdown",
   "metadata": {},
   "source": [
    "# (3) example of insertion sort "
   ]
  },
  {
   "cell_type": "markdown",
   "metadata": {},
   "source": [
    "Insertion sort is good for collections that are very small or nearly sorted. Otherwise it's not a good sorting algorithm: it moves data around too much. Each time an insertion is made, all elements in a greater position are shifted."
   ]
  },
  {
   "cell_type": "code",
   "execution_count": 3,
   "metadata": {},
   "outputs": [
    {
     "name": "stdout",
     "output_type": "stream",
     "text": [
      "Sorted List: [1, 2, 3, 4, 5, 6, 7, 9]\n"
     ]
    }
   ],
   "source": [
    "def insertionSort(List):\n",
    "    for i in range(1, len(List)):\n",
    "        currentNumber = List[i]\n",
    "        for j in range(i - 1, -1, -1):\n",
    "            if List[j] > currentNumber :\n",
    "                List[j], List[j + 1] = List[j + 1], List[j]\n",
    "            else:\n",
    "                List[j + 1] = currentNumber\n",
    "                break\n",
    "\n",
    "    return List\n",
    "\n",
    "if __name__ == '__main__':\n",
    "    List = [3, 4, 2, 6, 5, 7, 1, 9]\n",
    "    print('Sorted List:',insertionSort(List))"
   ]
  },
  {
   "cell_type": "code",
   "execution_count": null,
   "metadata": {},
   "outputs": [],
   "source": []
  }
 ],
 "metadata": {
  "kernelspec": {
   "display_name": "Python 3",
   "language": "python",
   "name": "python3"
  },
  "language_info": {
   "codemirror_mode": {
    "name": "ipython",
    "version": 3
   },
   "file_extension": ".py",
   "mimetype": "text/x-python",
   "name": "python",
   "nbconvert_exporter": "python",
   "pygments_lexer": "ipython3",
   "version": "3.7.3"
  }
 },
 "nbformat": 4,
 "nbformat_minor": 2
}
